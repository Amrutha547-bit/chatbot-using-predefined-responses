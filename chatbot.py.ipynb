{
  "nbformat": 4,
  "nbformat_minor": 0,
  "metadata": {
    "colab": {
      "provenance": []
    },
    "kernelspec": {
      "name": "python3",
      "display_name": "Python 3"
    },
    "language_info": {
      "name": "python"
    }
  },
  "cells": [
    {
      "cell_type": "code",
      "execution_count": 3,
      "metadata": {
        "colab": {
          "base_uri": "https://localhost:8080/"
        },
        "id": "Jr_RGwf35vS9",
        "outputId": "547bca7f-c925-4337-d532-6e376d9f5b91"
      },
      "outputs": [
        {
          "output_type": "stream",
          "name": "stdout",
          "text": [
            "Chatbot: Hello! I'm here to assist you. (type 'bye' to exit)\n",
            "you: hello\n",
            "chatbot: Hi there! How can I assist you today?\n",
            "you: hi\n",
            "chatbot: Hello! How can I help you?\n",
            "you: help\n",
            "chatbot: Sure, I'm here to help. What do you need assistance with?\n",
            "you: bye\n",
            "Chatbot: Goodbye! Have a great day!\n"
          ]
        }
      ],
      "source": [
        "#import the regular expression module to handle pattern matching\n",
        "\n",
        "import re\n",
        "\n",
        "# a directory that maps keywords to predefined responses\n",
        "responses = {\n",
        "    \"hello\": \"Hi there! How can I assist you today?\",\n",
        "    \"hi\": \"Hello! How can I help you?\",\n",
        "    \"how are you\": \"I'm just a bot, but I'm doing great ! How about you?\",\n",
        "    \"what is your name\": \"I'm a chatbot created to assist you.\",\n",
        "    \"help\": \"Sure, I'm here to help. What do you need assistance with?\",\n",
        "    \"bye\": \"Goodbye! Have a great day!\",\n",
        "    \"thank you\": \"You're welcome! I'm happy to help.\",\n",
        "    \"default\": \"I'm not sure I understand. Could you please rephrase?\"\n",
        "\n",
        "}\n",
        "\n",
        "#funtion to find the appropriate response based on the user's input\n",
        "def chatbot_response(user_input):\n",
        "  # Convert user input to lowercase to make matching case-insensitive\n",
        "  user_input = user_input.lower()\n",
        "\n",
        "  for keywork in responses:\n",
        "    if re.search(keywork, user_input):\n",
        "      return responses[keywork]\n",
        "\n",
        "  return responses[\"default\"]\n",
        "\n",
        "# Main function to run the chatbot\n",
        "def chatbot():\n",
        "  print(\"Chatbot: Hello! I'm here to assist you. (type 'bye' to exit)\")\n",
        "\n",
        "  while True:\n",
        "    #get user input\n",
        "    user_input = input(\"you: \")\n",
        "\n",
        "    #If user types 'bye', exit the loop\n",
        "    if user_input.lower() =='bye':\n",
        "      print(\"Chatbot: Goodbye! Have a great day!\")\n",
        "      break\n",
        "\n",
        "    # Get chatbot's responsenbased on user input\n",
        "    response = chatbot_response(user_input)\n",
        "\n",
        "    #print chatbot's response\n",
        "    print(f\"chatbot: {response}\")\n",
        "\n",
        "# run the chatbot\n",
        "chatbot()"
      ]
    }
  ]
}